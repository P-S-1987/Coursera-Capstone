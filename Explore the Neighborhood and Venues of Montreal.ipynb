{
    "cells": [
        {
            "cell_type": "markdown",
            "metadata": {
                "collapsed": true
            },
            "source": "## <font size = 6> Explore the Neighborhood and Venues of Montreal"
        },
        {
            "cell_type": "markdown",
            "metadata": {},
            "source": "## 1. Introduction\n\n\n \nThe city of Montreal is the second most populous city in Canada, just behind the city of Toronto. It is the most important city in the province of Quebec. Montreal is a place that is warm, dynamic, relaxed, innovative, cosmopolitan, modern and historic. In the city, we live there in bilingualism and multiculturalism. It is undoubtedly the most bilingual city in North America where more than 50% of the \u201cMontrealers\u201d are bilingual. \nLess pretentious than Paris, less busy than New York, more creative than Toronto, Montreal has kept its own identity without influencing by the international standard. The unique art of living that combines good humor, accessibility, cosmopolitanism and culture is a perfect mix that inevitably makes you want to spend at least few days in this city. \n\nThe city is also known its international gastronomy and it is a home for numerous international festivals. "
        },
        {
            "cell_type": "markdown",
            "metadata": {},
            "source": "## 2. Business Problem\n \nSimilar to various part in the world, due to the arrival of COVID-19 pandemic, most of the people in the world are restricted to travelling. The objective of the project is to use data science skills to allow the reader to explore the beautiful city of Montreal virtually. With the hope that, the reader will gain interest of the city throughout the project and will explore the city of Montreal in person when the pandemic end (hopefully, very soon)."
        },
        {
            "cell_type": "markdown",
            "metadata": {},
            "source": "## 3. Data Description\nThe following data is used for the analysis:\n\n-   List of FSA with the corresponding neighborhood in the city of Montreal [1].\n-   Forsquare API to get the most common venues of given Borough of Montreal [2].\n-   Geopy package to get the latitude and the longitude coordinates of each neighborhood. \n"
        },
        {
            "cell_type": "markdown",
            "metadata": {},
            "source": "## 4. Methodology"
        },
        {
            "cell_type": "markdown",
            "metadata": {},
            "source": "### 4.1 Data Cleaning and Dataset Exploration"
        },
        {
            "cell_type": "markdown",
            "metadata": {},
            "source": "#### Import all the necessary Python Libraries"
        },
        {
            "cell_type": "code",
            "execution_count": 1,
            "metadata": {},
            "outputs": [
                {
                    "name": "stdout",
                    "output_type": "stream",
                    "text": "Requirement already satisfied: folium==0.5.0 in /opt/conda/envs/Python-3.7-main/lib/python3.7/site-packages (0.5.0)\nRequirement already satisfied: requests in /opt/conda/envs/Python-3.7-main/lib/python3.7/site-packages (from folium==0.5.0) (2.24.0)\nRequirement already satisfied: jinja2 in /opt/conda/envs/Python-3.7-main/lib/python3.7/site-packages (from folium==0.5.0) (2.11.2)\nRequirement already satisfied: six in /opt/conda/envs/Python-3.7-main/lib/python3.7/site-packages (from folium==0.5.0) (1.15.0)\nRequirement already satisfied: branca in /opt/conda/envs/Python-3.7-main/lib/python3.7/site-packages (from folium==0.5.0) (0.4.1)\nRequirement already satisfied: idna<3,>=2.5 in /opt/conda/envs/Python-3.7-main/lib/python3.7/site-packages (from requests->folium==0.5.0) (2.9)\nRequirement already satisfied: certifi>=2017.4.17 in /opt/conda/envs/Python-3.7-main/lib/python3.7/site-packages (from requests->folium==0.5.0) (2020.6.20)\nRequirement already satisfied: chardet<4,>=3.0.2 in /opt/conda/envs/Python-3.7-main/lib/python3.7/site-packages (from requests->folium==0.5.0) (3.0.4)\nRequirement already satisfied: urllib3!=1.25.0,!=1.25.1,<1.26,>=1.21.1 in /opt/conda/envs/Python-3.7-main/lib/python3.7/site-packages (from requests->folium==0.5.0) (1.25.9)\nRequirement already satisfied: MarkupSafe>=0.23 in /opt/conda/envs/Python-3.7-main/lib/python3.7/site-packages (from jinja2->folium==0.5.0) (1.1.1)\nRequirement already satisfied: bs4 in /opt/conda/envs/Python-3.7-main/lib/python3.7/site-packages (0.0.1)\nRequirement already satisfied: beautifulsoup4 in /opt/conda/envs/Python-3.7-main/lib/python3.7/site-packages (from bs4) (4.9.1)\nRequirement already satisfied: soupsieve>1.2 in /opt/conda/envs/Python-3.7-main/lib/python3.7/site-packages (from beautifulsoup4->bs4) (2.0.1)\nRequirement already satisfied: pgeocode in /opt/conda/envs/Python-3.7-main/lib/python3.7/site-packages (0.2.1)\nRequirement already satisfied: pandas in /opt/conda/envs/Python-3.7-main/lib/python3.7/site-packages (from pgeocode) (1.0.5)\nRequirement already satisfied: numpy in /opt/conda/envs/Python-3.7-main/lib/python3.7/site-packages (from pgeocode) (1.18.5)\nRequirement already satisfied: requests in /opt/conda/envs/Python-3.7-main/lib/python3.7/site-packages (from pgeocode) (2.24.0)\nRequirement already satisfied: pytz>=2017.2 in /opt/conda/envs/Python-3.7-main/lib/python3.7/site-packages (from pandas->pgeocode) (2020.1)\nRequirement already satisfied: python-dateutil>=2.6.1 in /opt/conda/envs/Python-3.7-main/lib/python3.7/site-packages (from pandas->pgeocode) (2.8.1)\nRequirement already satisfied: chardet<4,>=3.0.2 in /opt/conda/envs/Python-3.7-main/lib/python3.7/site-packages (from requests->pgeocode) (3.0.4)\nRequirement already satisfied: urllib3!=1.25.0,!=1.25.1,<1.26,>=1.21.1 in /opt/conda/envs/Python-3.7-main/lib/python3.7/site-packages (from requests->pgeocode) (1.25.9)\nRequirement already satisfied: idna<3,>=2.5 in /opt/conda/envs/Python-3.7-main/lib/python3.7/site-packages (from requests->pgeocode) (2.9)\nRequirement already satisfied: certifi>=2017.4.17 in /opt/conda/envs/Python-3.7-main/lib/python3.7/site-packages (from requests->pgeocode) (2020.6.20)\nRequirement already satisfied: six>=1.5 in /opt/conda/envs/Python-3.7-main/lib/python3.7/site-packages (from python-dateutil>=2.6.1->pandas->pgeocode) (1.15.0)\nLibraries imported.\n"
                }
            ],
            "source": "import numpy as np # library to handle data in a vectorized manner\n\nimport pandas as pd # library for data analsysis\npd.set_option('display.max_columns', None)\npd.set_option('display.max_rows', None)\n\nimport json # library to handle JSON files\n\n#!conda install -c conda-forge geopy --yes \nfrom geopy.geocoders import Nominatim # convert an address into latitude and longitude values\n\nimport requests # library to handle requests\nfrom pandas.io.json import json_normalize # tranform JSON file into a pandas dataframe\n\n# Matplotlib and associated plotting modules\nimport matplotlib.cm as cm\nimport matplotlib.colors as colors\n\n# import k-means from clustering stage\nfrom sklearn.cluster import KMeans\n\n!pip install folium==0.5.0\nimport folium # map rendering library\n\n# import BeautifulSoup package for web scraping \n!pip install bs4\nfrom bs4 import BeautifulSoup\n\n!pip install pgeocode\nimport pgeocode \n\nprint('Libraries imported.')"
        },
        {
            "cell_type": "markdown",
            "metadata": {},
            "source": "#### Web scrapping - Information on Montreal's neighborhood \nAs a starting point, a list of Montreal's neighborhood with the corresponding postal code is extracted from Wikipedia web page with the web scrapping technic from BeautifulSoup package. "
        },
        {
            "cell_type": "code",
            "execution_count": 2,
            "metadata": {},
            "outputs": [
                {
                    "data": {
                        "text/html": "<div>\n<style scoped>\n    .dataframe tbody tr th:only-of-type {\n        vertical-align: middle;\n    }\n\n    .dataframe tbody tr th {\n        vertical-align: top;\n    }\n\n    .dataframe thead th {\n        text-align: right;\n    }\n</style>\n<table border=\"1\" class=\"dataframe\">\n  <thead>\n    <tr style=\"text-align: right;\">\n      <th></th>\n      <th>Postcode</th>\n      <th>Neighborhood</th>\n    </tr>\n  </thead>\n  <tbody>\n    <tr>\n      <th>1</th>\n      <td>H1A</td>\n      <td>Pointe-aux-Trembles</td>\n    </tr>\n    <tr>\n      <th>2</th>\n      <td>H2A</td>\n      <td>Saint-Michel</td>\n    </tr>\n    <tr>\n      <th>3</th>\n      <td>H3A</td>\n      <td>Downtown Montreal</td>\n    </tr>\n    <tr>\n      <th>4</th>\n      <td>H4A</td>\n      <td>Notre-Dame-de-Gr\u00e2ce</td>\n    </tr>\n    <tr>\n      <th>5</th>\n      <td>H5A</td>\n      <td>Place Bonaventure</td>\n    </tr>\n    <tr>\n      <th>6</th>\n      <td>H7A</td>\n      <td>Duvernay-Est</td>\n    </tr>\n    <tr>\n      <th>8</th>\n      <td>H9A</td>\n      <td>Dollard-des-Ormeaux</td>\n    </tr>\n    <tr>\n      <th>10</th>\n      <td>H1B</td>\n      <td>Montreal East</td>\n    </tr>\n    <tr>\n      <th>11</th>\n      <td>H2B</td>\n      <td>Ahuntsic</td>\n    </tr>\n    <tr>\n      <th>12</th>\n      <td>H3B</td>\n      <td>Downtown Montreal</td>\n    </tr>\n    <tr>\n      <th>13</th>\n      <td>H4B</td>\n      <td>Notre-Dame-de-Gr\u00e2ce</td>\n    </tr>\n    <tr>\n      <th>14</th>\n      <td>H5B</td>\n      <td>Place Desjardins</td>\n    </tr>\n    <tr>\n      <th>15</th>\n      <td>H7B</td>\n      <td>Saint-Fran\u00e7ois</td>\n    </tr>\n    <tr>\n      <th>17</th>\n      <td>H9B</td>\n      <td>Dollard-des-Ormeaux</td>\n    </tr>\n    <tr>\n      <th>19</th>\n      <td>H1C</td>\n      <td>Rivi\u00e8re-des-Prairies</td>\n    </tr>\n    <tr>\n      <th>20</th>\n      <td>H2C</td>\n      <td>Ahuntsic</td>\n    </tr>\n    <tr>\n      <th>21</th>\n      <td>H3C</td>\n      <td>Griffintown</td>\n    </tr>\n    <tr>\n      <th>22</th>\n      <td>H4C</td>\n      <td>Saint-Henri</td>\n    </tr>\n    <tr>\n      <th>24</th>\n      <td>H7C</td>\n      <td>Saint-Vincent-de-Paul</td>\n    </tr>\n    <tr>\n      <th>26</th>\n      <td>H9C</td>\n      <td>L'\u00cele-Bizard</td>\n    </tr>\n    <tr>\n      <th>28</th>\n      <td>H1E</td>\n      <td>Rivi\u00e8re-des-Prairies</td>\n    </tr>\n    <tr>\n      <th>29</th>\n      <td>H2E</td>\n      <td>Villeray</td>\n    </tr>\n    <tr>\n      <th>30</th>\n      <td>H3E</td>\n      <td>L'\u00cele-Des-Soeurs</td>\n    </tr>\n    <tr>\n      <th>31</th>\n      <td>H4E</td>\n      <td>Ville \u00c9mard</td>\n    </tr>\n    <tr>\n      <th>33</th>\n      <td>H7E</td>\n      <td>Duvernay</td>\n    </tr>\n    <tr>\n      <th>35</th>\n      <td>H9E</td>\n      <td>L'\u00cele-Bizard</td>\n    </tr>\n    <tr>\n      <th>37</th>\n      <td>H1G</td>\n      <td>Montr\u00e9al-Nord</td>\n    </tr>\n    <tr>\n      <th>38</th>\n      <td>H2G</td>\n      <td>Petite-Patrie</td>\n    </tr>\n    <tr>\n      <th>39</th>\n      <td>H3G</td>\n      <td>Downtown Montreal</td>\n    </tr>\n    <tr>\n      <th>40</th>\n      <td>H4G</td>\n      <td>Verdun</td>\n    </tr>\n    <tr>\n      <th>42</th>\n      <td>H7G</td>\n      <td>Pont-Viau</td>\n    </tr>\n    <tr>\n      <th>44</th>\n      <td>H9G</td>\n      <td>Dollard-des-Ormeaux</td>\n    </tr>\n    <tr>\n      <th>45</th>\n      <td>H1H</td>\n      <td>Montr\u00e9al-Nord</td>\n    </tr>\n    <tr>\n      <th>46</th>\n      <td>H2H</td>\n      <td>Plateau Mont-Royal</td>\n    </tr>\n    <tr>\n      <th>47</th>\n      <td>H3H</td>\n      <td>Downtown Montreal</td>\n    </tr>\n    <tr>\n      <th>48</th>\n      <td>H4H</td>\n      <td>Verdun</td>\n    </tr>\n    <tr>\n      <th>50</th>\n      <td>H7H</td>\n      <td>Auteuil</td>\n    </tr>\n    <tr>\n      <th>52</th>\n      <td>H9H</td>\n      <td>Pierrefonds</td>\n    </tr>\n    <tr>\n      <th>54</th>\n      <td>H1J</td>\n      <td>Anjou</td>\n    </tr>\n    <tr>\n      <th>55</th>\n      <td>H2J</td>\n      <td>Plateau Mont-Royal</td>\n    </tr>\n    <tr>\n      <th>56</th>\n      <td>H3J</td>\n      <td>Petite-Bourgogne</td>\n    </tr>\n    <tr>\n      <th>57</th>\n      <td>H4J</td>\n      <td>Cartierville</td>\n    </tr>\n    <tr>\n      <th>59</th>\n      <td>H7J</td>\n      <td>Auteuil</td>\n    </tr>\n    <tr>\n      <th>61</th>\n      <td>H9J</td>\n      <td>Kirkland</td>\n    </tr>\n    <tr>\n      <th>63</th>\n      <td>H1K</td>\n      <td>Anjou</td>\n    </tr>\n    <tr>\n      <th>64</th>\n      <td>H2K</td>\n      <td>Centre-Sud</td>\n    </tr>\n    <tr>\n      <th>65</th>\n      <td>H3K</td>\n      <td>Pointe-Saint-Charles</td>\n    </tr>\n    <tr>\n      <th>66</th>\n      <td>H4K</td>\n      <td>Cartierville</td>\n    </tr>\n    <tr>\n      <th>68</th>\n      <td>H7K</td>\n      <td>Auteuil</td>\n    </tr>\n    <tr>\n      <th>70</th>\n      <td>H9K</td>\n      <td>Senneville</td>\n    </tr>\n    <tr>\n      <th>72</th>\n      <td>H1L</td>\n      <td>Mercier</td>\n    </tr>\n    <tr>\n      <th>73</th>\n      <td>H2L</td>\n      <td>Centre-Sud</td>\n    </tr>\n    <tr>\n      <th>74</th>\n      <td>H3L</td>\n      <td>Ahuntsic</td>\n    </tr>\n    <tr>\n      <th>75</th>\n      <td>H4L</td>\n      <td>Saint-Laurent</td>\n    </tr>\n    <tr>\n      <th>77</th>\n      <td>H7L</td>\n      <td>Sainte-Rose</td>\n    </tr>\n    <tr>\n      <th>80</th>\n      <td>H0M</td>\n      <td>Akwesasne</td>\n    </tr>\n    <tr>\n      <th>81</th>\n      <td>H1M</td>\n      <td>Mercier</td>\n    </tr>\n    <tr>\n      <th>82</th>\n      <td>H2M</td>\n      <td>Ahuntsic</td>\n    </tr>\n    <tr>\n      <th>83</th>\n      <td>H3M</td>\n      <td>Cartierville</td>\n    </tr>\n    <tr>\n      <th>84</th>\n      <td>H4M</td>\n      <td>Saint-Laurent</td>\n    </tr>\n    <tr>\n      <th>86</th>\n      <td>H7M</td>\n      <td>Vimont</td>\n    </tr>\n    <tr>\n      <th>90</th>\n      <td>H1N</td>\n      <td>Mercier</td>\n    </tr>\n    <tr>\n      <th>91</th>\n      <td>H2N</td>\n      <td>Ahuntsic</td>\n    </tr>\n    <tr>\n      <th>92</th>\n      <td>H3N</td>\n      <td>Parc-Extension</td>\n    </tr>\n    <tr>\n      <th>93</th>\n      <td>H4N</td>\n      <td>Saint-Laurent</td>\n    </tr>\n    <tr>\n      <th>95</th>\n      <td>H7N</td>\n      <td>Laval-des-Rapides</td>\n    </tr>\n    <tr>\n      <th>96</th>\n      <td>H8N</td>\n      <td>LaSalle</td>\n    </tr>\n    <tr>\n      <th>99</th>\n      <td>H1P</td>\n      <td>Saint-L\u00e9onard</td>\n    </tr>\n    <tr>\n      <th>100</th>\n      <td>H2P</td>\n      <td>Villeray</td>\n    </tr>\n    <tr>\n      <th>101</th>\n      <td>H3P</td>\n      <td>Mount Royal</td>\n    </tr>\n    <tr>\n      <th>102</th>\n      <td>H4P</td>\n      <td>Mount Royal</td>\n    </tr>\n    <tr>\n      <th>104</th>\n      <td>H7P</td>\n      <td>Fabreville</td>\n    </tr>\n    <tr>\n      <th>105</th>\n      <td>H8P</td>\n      <td>LaSalle</td>\n    </tr>\n    <tr>\n      <th>106</th>\n      <td>H9P</td>\n      <td>Dorval</td>\n    </tr>\n    <tr>\n      <th>108</th>\n      <td>H1R</td>\n      <td>Saint-L\u00e9onard</td>\n    </tr>\n    <tr>\n      <th>109</th>\n      <td>H2R</td>\n      <td>Villeray</td>\n    </tr>\n    <tr>\n      <th>110</th>\n      <td>H3R</td>\n      <td>Mount Royal</td>\n    </tr>\n    <tr>\n      <th>111</th>\n      <td>H4R</td>\n      <td>Saint-Laurent</td>\n    </tr>\n    <tr>\n      <th>113</th>\n      <td>H7R</td>\n      <td>Laval-sur-le-Lac</td>\n    </tr>\n    <tr>\n      <th>114</th>\n      <td>H8R</td>\n      <td>Ville Saint-Pierre</td>\n    </tr>\n    <tr>\n      <th>115</th>\n      <td>H9R</td>\n      <td>Pointe-Claire</td>\n    </tr>\n    <tr>\n      <th>117</th>\n      <td>H1S</td>\n      <td>Saint-L\u00e9onard</td>\n    </tr>\n    <tr>\n      <th>118</th>\n      <td>H2S</td>\n      <td>Petite-Patrie</td>\n    </tr>\n    <tr>\n      <th>119</th>\n      <td>H3S</td>\n      <td>C\u00f4te-des-Neiges</td>\n    </tr>\n    <tr>\n      <th>120</th>\n      <td>H4S</td>\n      <td>Saint-Laurent</td>\n    </tr>\n    <tr>\n      <th>122</th>\n      <td>H7S</td>\n      <td>Chomedey</td>\n    </tr>\n    <tr>\n      <th>123</th>\n      <td>H8S</td>\n      <td>Lachine</td>\n    </tr>\n    <tr>\n      <th>124</th>\n      <td>H9S</td>\n      <td>Dorval</td>\n    </tr>\n    <tr>\n      <th>126</th>\n      <td>H1T</td>\n      <td>Rosemont</td>\n    </tr>\n    <tr>\n      <th>127</th>\n      <td>H2T</td>\n      <td>Plateau Mont-Royal</td>\n    </tr>\n    <tr>\n      <th>128</th>\n      <td>H3T</td>\n      <td>C\u00f4te-des-Neiges</td>\n    </tr>\n    <tr>\n      <th>129</th>\n      <td>H4T</td>\n      <td>Saint-Laurent</td>\n    </tr>\n    <tr>\n      <th>131</th>\n      <td>H7T</td>\n      <td>Chomedey</td>\n    </tr>\n    <tr>\n      <th>132</th>\n      <td>H8T</td>\n      <td>Lachine</td>\n    </tr>\n    <tr>\n      <th>135</th>\n      <td>H1V</td>\n      <td>Maisonneuve</td>\n    </tr>\n    <tr>\n      <th>136</th>\n      <td>H2V</td>\n      <td>Outremont</td>\n    </tr>\n    <tr>\n      <th>137</th>\n      <td>H3V</td>\n      <td>C\u00f4te-des-Neiges</td>\n    </tr>\n    <tr>\n      <th>138</th>\n      <td>H4V</td>\n      <td>C\u00f4te Saint-Luc</td>\n    </tr>\n    <tr>\n      <th>140</th>\n      <td>H7V</td>\n      <td>Chomedey</td>\n    </tr>\n    <tr>\n      <th>144</th>\n      <td>H1W</td>\n      <td>Hochelaga</td>\n    </tr>\n    <tr>\n      <th>145</th>\n      <td>H2W</td>\n      <td>Plateau Mont-Royal</td>\n    </tr>\n    <tr>\n      <th>146</th>\n      <td>H3W</td>\n      <td>C\u00f4te Saint-Luc</td>\n    </tr>\n    <tr>\n      <th>148</th>\n      <td>H5W</td>\n      <td>Chomedey</td>\n    </tr>\n    <tr>\n      <th>150</th>\n      <td>H8W</td>\n      <td>Beaconsfield</td>\n    </tr>\n    <tr>\n      <th>152</th>\n      <td>H0X</td>\n      <td>Rosemont</td>\n    </tr>\n    <tr>\n      <th>153</th>\n      <td>H1X</td>\n      <td>Plateau Mont-Royal</td>\n    </tr>\n    <tr>\n      <th>154</th>\n      <td>H2X</td>\n      <td>Hampstead</td>\n    </tr>\n    <tr>\n      <th>155</th>\n      <td>H3X</td>\n      <td>C\u00f4te Saint-Luc</td>\n    </tr>\n    <tr>\n      <th>156</th>\n      <td>H4X</td>\n      <td>Montreal West</td>\n    </tr>\n    <tr>\n      <th>158</th>\n      <td>H7X</td>\n      <td>Sainte-Doroth\u00e9e</td>\n    </tr>\n    <tr>\n      <th>160</th>\n      <td>H9X</td>\n      <td>Sainte-Anne-De-Bellevue</td>\n    </tr>\n    <tr>\n      <th>162</th>\n      <td>H1Y</td>\n      <td>Rosemont</td>\n    </tr>\n    <tr>\n      <th>163</th>\n      <td>H2Y</td>\n      <td>Old Montreal</td>\n    </tr>\n    <tr>\n      <th>164</th>\n      <td>H3Y</td>\n      <td>Westmount</td>\n    </tr>\n    <tr>\n      <th>165</th>\n      <td>H4Y</td>\n      <td>Dorval</td>\n    </tr>\n    <tr>\n      <th>167</th>\n      <td>H7Y</td>\n      <td>\u00celes-Laval</td>\n    </tr>\n    <tr>\n      <th>168</th>\n      <td>H8Y</td>\n      <td>Pierrefonds-Roxboro</td>\n    </tr>\n    <tr>\n      <th>171</th>\n      <td>H1Z</td>\n      <td>Saint-Michel</td>\n    </tr>\n    <tr>\n      <th>172</th>\n      <td>H2Z</td>\n      <td>Downtown Montreal</td>\n    </tr>\n    <tr>\n      <th>173</th>\n      <td>H3Z</td>\n      <td>Westmount</td>\n    </tr>\n    <tr>\n      <th>174</th>\n      <td>H4Z</td>\n      <td>Tour de la Bourse</td>\n    </tr>\n    <tr>\n      <th>177</th>\n      <td>H8Z</td>\n      <td>Pierrefonds</td>\n    </tr>\n  </tbody>\n</table>\n</div>",
                        "text/plain": "    Postcode             Neighborhood\n1        H1A      Pointe-aux-Trembles\n2        H2A             Saint-Michel\n3        H3A        Downtown Montreal\n4        H4A      Notre-Dame-de-Gr\u00e2ce\n5        H5A        Place Bonaventure\n6        H7A             Duvernay-Est\n8        H9A      Dollard-des-Ormeaux\n10       H1B            Montreal East\n11       H2B                 Ahuntsic\n12       H3B        Downtown Montreal\n13       H4B      Notre-Dame-de-Gr\u00e2ce\n14       H5B         Place Desjardins\n15       H7B           Saint-Fran\u00e7ois\n17       H9B      Dollard-des-Ormeaux\n19       H1C     Rivi\u00e8re-des-Prairies\n20       H2C                 Ahuntsic\n21       H3C              Griffintown\n22       H4C              Saint-Henri\n24       H7C    Saint-Vincent-de-Paul\n26       H9C             L'\u00cele-Bizard\n28       H1E     Rivi\u00e8re-des-Prairies\n29       H2E                 Villeray\n30       H3E         L'\u00cele-Des-Soeurs\n31       H4E              Ville \u00c9mard\n33       H7E                 Duvernay\n35       H9E             L'\u00cele-Bizard\n37       H1G            Montr\u00e9al-Nord\n38       H2G            Petite-Patrie\n39       H3G        Downtown Montreal\n40       H4G                   Verdun\n42       H7G                Pont-Viau\n44       H9G      Dollard-des-Ormeaux\n45       H1H            Montr\u00e9al-Nord\n46       H2H       Plateau Mont-Royal\n47       H3H        Downtown Montreal\n48       H4H                   Verdun\n50       H7H                  Auteuil\n52       H9H              Pierrefonds\n54       H1J                    Anjou\n55       H2J       Plateau Mont-Royal\n56       H3J         Petite-Bourgogne\n57       H4J             Cartierville\n59       H7J                  Auteuil\n61       H9J                 Kirkland\n63       H1K                    Anjou\n64       H2K               Centre-Sud\n65       H3K     Pointe-Saint-Charles\n66       H4K             Cartierville\n68       H7K                  Auteuil\n70       H9K               Senneville\n72       H1L                  Mercier\n73       H2L               Centre-Sud\n74       H3L                 Ahuntsic\n75       H4L            Saint-Laurent\n77       H7L              Sainte-Rose\n80       H0M                Akwesasne\n81       H1M                  Mercier\n82       H2M                 Ahuntsic\n83       H3M             Cartierville\n84       H4M            Saint-Laurent\n86       H7M                   Vimont\n90       H1N                  Mercier\n91       H2N                 Ahuntsic\n92       H3N           Parc-Extension\n93       H4N            Saint-Laurent\n95       H7N        Laval-des-Rapides\n96       H8N                  LaSalle\n99       H1P            Saint-L\u00e9onard\n100      H2P                 Villeray\n101      H3P              Mount Royal\n102      H4P              Mount Royal\n104      H7P               Fabreville\n105      H8P                  LaSalle\n106      H9P                   Dorval\n108      H1R            Saint-L\u00e9onard\n109      H2R                 Villeray\n110      H3R              Mount Royal\n111      H4R            Saint-Laurent\n113      H7R         Laval-sur-le-Lac\n114      H8R       Ville Saint-Pierre\n115      H9R            Pointe-Claire\n117      H1S            Saint-L\u00e9onard\n118      H2S            Petite-Patrie\n119      H3S          C\u00f4te-des-Neiges\n120      H4S            Saint-Laurent\n122      H7S                 Chomedey\n123      H8S                  Lachine\n124      H9S                   Dorval\n126      H1T                 Rosemont\n127      H2T       Plateau Mont-Royal\n128      H3T          C\u00f4te-des-Neiges\n129      H4T            Saint-Laurent\n131      H7T                 Chomedey\n132      H8T                  Lachine\n135      H1V              Maisonneuve\n136      H2V                Outremont\n137      H3V          C\u00f4te-des-Neiges\n138      H4V           C\u00f4te Saint-Luc\n140      H7V                 Chomedey\n144      H1W                Hochelaga\n145      H2W       Plateau Mont-Royal\n146      H3W           C\u00f4te Saint-Luc\n148      H5W                 Chomedey\n150      H8W             Beaconsfield\n152      H0X                 Rosemont\n153      H1X       Plateau Mont-Royal\n154      H2X                Hampstead\n155      H3X           C\u00f4te Saint-Luc\n156      H4X            Montreal West\n158      H7X          Sainte-Doroth\u00e9e\n160      H9X  Sainte-Anne-De-Bellevue\n162      H1Y                 Rosemont\n163      H2Y             Old Montreal\n164      H3Y                Westmount\n165      H4Y                   Dorval\n167      H7Y               \u00celes-Laval\n168      H8Y      Pierrefonds-Roxboro\n171      H1Z             Saint-Michel\n172      H2Z        Downtown Montreal\n173      H3Z                Westmount\n174      H4Z        Tour de la Bourse\n177      H8Z              Pierrefonds"
                    },
                    "execution_count": 2,
                    "metadata": {},
                    "output_type": "execute_result"
                }
            ],
            "source": "# Parsing the HTML\nurl = 'https://en.wikipedia.org/wiki/List_of_postal_codes_of_Canada:_H'\nresult = requests.get(url)\n\nsoup = BeautifulSoup(result.content, 'html.parser')\ntable = soup.find('table')\n\na_i_s = table.find_all(['a', 'i'])\nb_s = table.find_all('b')\n\n# Get the fsas\npostcodes = []\nfor b in b_s:\n    postcode = b\n    if postcode:\n        postcodes.append(postcode)\n#postcodes\nmtl_postcode = []\nfor postcode in postcodes:\n    postalcode = postcode.text.rstrip()\n    #neighborhood = row[1].text.rstrip()\n    mtl_postcode.append([postalcode])\n#mtl_postcode\n\n# Get the the neighborhood\nneighbors = []\nfor a in a_i_s:\n    neighbor = a\n    if neighbor:\n        neighbors.append(neighbor)\n#neighbors\nmtl_neighborhood = []\nfor neighbor in neighbors:\n    neighborhood = neighbor.text.rstrip()\n    #neighborhood = row[1].text.rstrip()\n    mtl_neighborhood.append([neighborhood])\n#mtl_neighborhood\n\n# define the dataframe columns\ncolumn_post = ['Postcode' ] \ncolumn_neigh = ['Neighborhood']\n\n# instantiate the dataframe & further data clean-up\ndf_pc = pd.DataFrame(mtl_postcode,columns=column_post)\n\ndf_neigh = pd.DataFrame(mtl_neighborhood,columns=column_neigh)\n\ndf_neigh.drop([4, 23, 24, 25, 44, 50, 51, 59, 123, 134, 156, 177, 181], inplace=True)\n\ndf_neigh.reset_index(drop=True, inplace=True)\n\ndf_pc.drop([45, 46], inplace=True)\n\ndf_pc.reset_index(drop=True, inplace=True)\n\n#print(df_neigh.shape)\n#print(df_pc.shape)\n\n#df_pc\n#df_neigh\n\ndf_neighborhood = pd.concat([df_pc, df_neigh], axis=1)\n\ndf_neighborhood = df_neighborhood[df_neighborhood.Neighborhood != 'Not assigned']\n\ndf_neighborhood"
        },
        {
            "cell_type": "markdown",
            "metadata": {},
            "source": "#### Use Geocode package to get the longtitude and latitude of the postal code\nNow that a list of postal code with the corresponding neighborhood is extracted from Wikipedia, the longtitude and latitude of each neighborhood is obtained using the Geopy package. In order to define an instance of the geocoder, we need to define a user_agent. We will name our agent mtl_explorer."
        },
        {
            "cell_type": "code",
            "execution_count": null,
            "metadata": {
                "scrolled": true
            },
            "outputs": [],
            "source": "# define the dataframe columns\ncolumn_names = ['Neighborhood', 'Latitude', 'Longitude'] \n\n# instantiate the dataframe\nLat_Long_table = pd.DataFrame(columns=column_names)\ngeolocator = Nominatim(user_agent=\"mtl_explorer\")\n\n# get the latitude and longtitude of the neighborhood\nfor data in df_neighborhood['Neighborhood']:\n    neighborhood = data\n    location = geolocator.geocode(data + ' Montr\u00e9al')\n    if location:\n        latitude = location.latitude\n        longitude = location.longitude\n    \n    Lat_Long_table = Lat_Long_table.append({'Latitude': latitude,\n                                            'Longitude': longitude,\n                                            'Neighborhood': neighborhood}, ignore_index=True)\nLat_Long_table\n"
        },
        {
            "cell_type": "code",
            "execution_count": 26,
            "metadata": {},
            "outputs": [
                {
                    "data": {
                        "text/html": "<div>\n<style scoped>\n    .dataframe tbody tr th:only-of-type {\n        vertical-align: middle;\n    }\n\n    .dataframe tbody tr th {\n        vertical-align: top;\n    }\n\n    .dataframe thead th {\n        text-align: right;\n    }\n</style>\n<table border=\"1\" class=\"dataframe\">\n  <thead>\n    <tr style=\"text-align: right;\">\n      <th></th>\n      <th>Postcode</th>\n      <th>Neighborhood</th>\n      <th>Latitude</th>\n      <th>Longitude</th>\n    </tr>\n  </thead>\n  <tbody>\n    <tr>\n      <th>0</th>\n      <td>H1A</td>\n      <td>Pointe-aux-Trembles</td>\n      <td>45.6753</td>\n      <td>-73.5016</td>\n    </tr>\n    <tr>\n      <th>1</th>\n      <td>H2A</td>\n      <td>Saint-Michel</td>\n      <td>45.5618</td>\n      <td>-73.5990</td>\n    </tr>\n    <tr>\n      <th>2</th>\n      <td>H3A</td>\n      <td>Downtown Montreal</td>\n      <td>45.5040</td>\n      <td>-73.5747</td>\n    </tr>\n    <tr>\n      <th>3</th>\n      <td>H4A</td>\n      <td>Notre-Dame-de-Gr\u00e2ce</td>\n      <td>45.4717</td>\n      <td>-73.6149</td>\n    </tr>\n    <tr>\n      <th>4</th>\n      <td>H5A</td>\n      <td>Place Bonaventure</td>\n      <td>45.4992</td>\n      <td>-73.5646</td>\n    </tr>\n    <tr>\n      <th>5</th>\n      <td>H7A</td>\n      <td>Duvernay-Est</td>\n      <td>45.6739</td>\n      <td>-73.5924</td>\n    </tr>\n    <tr>\n      <th>6</th>\n      <td>H9A</td>\n      <td>Dollard-des-Ormeaux</td>\n      <td>45.4948</td>\n      <td>-73.8317</td>\n    </tr>\n    <tr>\n      <th>7</th>\n      <td>H1B</td>\n      <td>Montreal East</td>\n      <td>45.6320</td>\n      <td>-73.5075</td>\n    </tr>\n    <tr>\n      <th>8</th>\n      <td>H2B</td>\n      <td>Ahuntsic</td>\n      <td>45.5741</td>\n      <td>-73.6507</td>\n    </tr>\n    <tr>\n      <th>9</th>\n      <td>H3B</td>\n      <td>Downtown Montreal</td>\n      <td>45.5005</td>\n      <td>-73.5684</td>\n    </tr>\n    <tr>\n      <th>10</th>\n      <td>H4B</td>\n      <td>Notre-Dame-de-Gr\u00e2ce</td>\n      <td>45.4604</td>\n      <td>-73.6303</td>\n    </tr>\n    <tr>\n      <th>11</th>\n      <td>H5B</td>\n      <td>Place Desjardins</td>\n      <td>45.5066</td>\n      <td>-73.5623</td>\n    </tr>\n    <tr>\n      <th>12</th>\n      <td>H7B</td>\n      <td>Saint-Fran\u00e7ois</td>\n      <td>45.6757</td>\n      <td>-73.6388</td>\n    </tr>\n    <tr>\n      <th>13</th>\n      <td>H9B</td>\n      <td>Dollard-des-Ormeaux</td>\n      <td>45.4897</td>\n      <td>-73.7958</td>\n    </tr>\n    <tr>\n      <th>14</th>\n      <td>H1C</td>\n      <td>Rivi\u00e8re-des-Prairies</td>\n      <td>45.6656</td>\n      <td>-73.5367</td>\n    </tr>\n    <tr>\n      <th>15</th>\n      <td>H2C</td>\n      <td>Ahuntsic</td>\n      <td>45.5606</td>\n      <td>-73.6584</td>\n    </tr>\n    <tr>\n      <th>16</th>\n      <td>H3C</td>\n      <td>Griffintown</td>\n      <td>45.4980</td>\n      <td>-73.5472</td>\n    </tr>\n    <tr>\n      <th>17</th>\n      <td>H4C</td>\n      <td>Saint-Henri</td>\n      <td>45.4737</td>\n      <td>-73.5882</td>\n    </tr>\n    <tr>\n      <th>18</th>\n      <td>H7C</td>\n      <td>Saint-Vincent-de-Paul</td>\n      <td>45.6168</td>\n      <td>-73.6492</td>\n    </tr>\n    <tr>\n      <th>19</th>\n      <td>H9C</td>\n      <td>L'\u00cele-Bizard</td>\n      <td>45.5055</td>\n      <td>-73.8789</td>\n    </tr>\n    <tr>\n      <th>20</th>\n      <td>H1E</td>\n      <td>Rivi\u00e8re-des-Prairies</td>\n      <td>45.6342</td>\n      <td>-73.5842</td>\n    </tr>\n    <tr>\n      <th>21</th>\n      <td>H2E</td>\n      <td>Villeray</td>\n      <td>45.5514</td>\n      <td>-73.6116</td>\n    </tr>\n    <tr>\n      <th>22</th>\n      <td>H3E</td>\n      <td>L'\u00cele-Des-Soeurs</td>\n      <td>45.4594</td>\n      <td>-73.5501</td>\n    </tr>\n    <tr>\n      <th>23</th>\n      <td>H4E</td>\n      <td>Ville \u00c9mard</td>\n      <td>45.4546</td>\n      <td>-73.5985</td>\n    </tr>\n    <tr>\n      <th>24</th>\n      <td>H7E</td>\n      <td>Duvernay</td>\n      <td>45.6225</td>\n      <td>-73.6949</td>\n    </tr>\n    <tr>\n      <th>25</th>\n      <td>H9E</td>\n      <td>L'\u00cele-Bizard</td>\n      <td>45.4865</td>\n      <td>-73.9092</td>\n    </tr>\n    <tr>\n      <th>26</th>\n      <td>H1G</td>\n      <td>Montr\u00e9al-Nord</td>\n      <td>45.6109</td>\n      <td>-73.6211</td>\n    </tr>\n    <tr>\n      <th>27</th>\n      <td>H2G</td>\n      <td>Petite-Patrie</td>\n      <td>45.5438</td>\n      <td>-73.5927</td>\n    </tr>\n    <tr>\n      <th>28</th>\n      <td>H3G</td>\n      <td>Downtown Montreal</td>\n      <td>45.4987</td>\n      <td>-73.5793</td>\n    </tr>\n    <tr>\n      <th>29</th>\n      <td>H4G</td>\n      <td>Verdun</td>\n      <td>45.4643</td>\n      <td>-73.5698</td>\n    </tr>\n    <tr>\n      <th>30</th>\n      <td>H7G</td>\n      <td>Pont-Viau</td>\n      <td>45.5771</td>\n      <td>-73.6873</td>\n    </tr>\n    <tr>\n      <th>31</th>\n      <td>H9G</td>\n      <td>Dollard-des-Ormeaux</td>\n      <td>45.4756</td>\n      <td>-73.8367</td>\n    </tr>\n    <tr>\n      <th>32</th>\n      <td>H1H</td>\n      <td>Montr\u00e9al-Nord</td>\n      <td>45.5899</td>\n      <td>-73.6389</td>\n    </tr>\n    <tr>\n      <th>33</th>\n      <td>H2H</td>\n      <td>Plateau Mont-Royal</td>\n      <td>45.5374</td>\n      <td>-73.5735</td>\n    </tr>\n    <tr>\n      <th>34</th>\n      <td>H3H</td>\n      <td>Downtown Montreal</td>\n      <td>45.5009</td>\n      <td>-73.5877</td>\n    </tr>\n    <tr>\n      <th>35</th>\n      <td>H4H</td>\n      <td>Verdun</td>\n      <td>45.4459</td>\n      <td>-73.5815</td>\n    </tr>\n    <tr>\n      <th>36</th>\n      <td>H7H</td>\n      <td>Auteuil</td>\n      <td>45.6409</td>\n      <td>-73.7542</td>\n    </tr>\n    <tr>\n      <th>37</th>\n      <td>H9H</td>\n      <td>Pierrefonds</td>\n      <td>45.4683</td>\n      <td>-73.8565</td>\n    </tr>\n    <tr>\n      <th>38</th>\n      <td>H1J</td>\n      <td>Anjou</td>\n      <td>45.6097</td>\n      <td>-73.5794</td>\n    </tr>\n    <tr>\n      <th>39</th>\n      <td>H2J</td>\n      <td>Plateau Mont-Royal</td>\n      <td>45.5302</td>\n      <td>-73.5831</td>\n    </tr>\n    <tr>\n      <th>40</th>\n      <td>H3J</td>\n      <td>Petite-Bourgogne</td>\n      <td>45.4861</td>\n      <td>-73.5732</td>\n    </tr>\n    <tr>\n      <th>41</th>\n      <td>H4J</td>\n      <td>Cartierville</td>\n      <td>45.5313</td>\n      <td>-73.7091</td>\n    </tr>\n    <tr>\n      <th>42</th>\n      <td>H7J</td>\n      <td>Auteuil</td>\n      <td>45.6625</td>\n      <td>-73.7002</td>\n    </tr>\n    <tr>\n      <th>43</th>\n      <td>H9J</td>\n      <td>Kirkland</td>\n      <td>45.4501</td>\n      <td>-73.8659</td>\n    </tr>\n    <tr>\n      <th>44</th>\n      <td>H1K</td>\n      <td>Anjou</td>\n      <td>45.6097</td>\n      <td>-73.5472</td>\n    </tr>\n    <tr>\n      <th>45</th>\n      <td>H2K</td>\n      <td>Centre-Sud</td>\n      <td>45.5307</td>\n      <td>-73.5547</td>\n    </tr>\n    <tr>\n      <th>46</th>\n      <td>H3K</td>\n      <td>Pointe-Saint-Charles</td>\n      <td>45.4805</td>\n      <td>-73.5554</td>\n    </tr>\n    <tr>\n      <th>47</th>\n      <td>H4K</td>\n      <td>Cartierville</td>\n      <td>45.5171</td>\n      <td>-73.7363</td>\n    </tr>\n    <tr>\n      <th>48</th>\n      <td>H7K</td>\n      <td>Auteuil</td>\n      <td>45.6213</td>\n      <td>-73.7398</td>\n    </tr>\n    <tr>\n      <th>49</th>\n      <td>H9K</td>\n      <td>Senneville</td>\n      <td>45.4577</td>\n      <td>-73.9162</td>\n    </tr>\n    <tr>\n      <th>50</th>\n      <td>H1L</td>\n      <td>Mercier</td>\n      <td>45.6043</td>\n      <td>-73.5178</td>\n    </tr>\n    <tr>\n      <th>51</th>\n      <td>H2L</td>\n      <td>Centre-Sud</td>\n      <td>45.5186</td>\n      <td>-73.5545</td>\n    </tr>\n    <tr>\n      <th>52</th>\n      <td>H3L</td>\n      <td>Ahuntsic</td>\n      <td>45.5467</td>\n      <td>-73.6718</td>\n    </tr>\n    <tr>\n      <th>53</th>\n      <td>H4L</td>\n      <td>Saint-Laurent</td>\n      <td>45.5170</td>\n      <td>-73.6831</td>\n    </tr>\n    <tr>\n      <th>54</th>\n      <td>H7L</td>\n      <td>Sainte-Rose</td>\n      <td>45.6168</td>\n      <td>-73.7825</td>\n    </tr>\n    <tr>\n      <th>55</th>\n      <td>H0M</td>\n      <td>Akwesasne</td>\n      <td>45.6986</td>\n      <td>-73.5025</td>\n    </tr>\n    <tr>\n      <th>56</th>\n      <td>H1M</td>\n      <td>Mercier</td>\n      <td>45.5883</td>\n      <td>-73.5572</td>\n    </tr>\n    <tr>\n      <th>57</th>\n      <td>H2M</td>\n      <td>Ahuntsic</td>\n      <td>45.5528</td>\n      <td>-73.6411</td>\n    </tr>\n    <tr>\n      <th>58</th>\n      <td>H3M</td>\n      <td>Cartierville</td>\n      <td>45.5383</td>\n      <td>-73.6932</td>\n    </tr>\n    <tr>\n      <th>59</th>\n      <td>H4M</td>\n      <td>Saint-Laurent</td>\n      <td>45.4979</td>\n      <td>-73.6886</td>\n    </tr>\n    <tr>\n      <th>60</th>\n      <td>H7M</td>\n      <td>Vimont</td>\n      <td>45.5984</td>\n      <td>-73.7159</td>\n    </tr>\n    <tr>\n      <th>61</th>\n      <td>H1N</td>\n      <td>Mercier</td>\n      <td>45.5779</td>\n      <td>-73.5304</td>\n    </tr>\n    <tr>\n      <th>62</th>\n      <td>H2N</td>\n      <td>Ahuntsic</td>\n      <td>45.5394</td>\n      <td>-73.6513</td>\n    </tr>\n    <tr>\n      <th>63</th>\n      <td>H3N</td>\n      <td>Parc-Extension</td>\n      <td>45.5302</td>\n      <td>-73.6327</td>\n    </tr>\n    <tr>\n      <th>64</th>\n      <td>H4N</td>\n      <td>Saint-Laurent</td>\n      <td>45.5263</td>\n      <td>-73.6649</td>\n    </tr>\n    <tr>\n      <th>65</th>\n      <td>H7N</td>\n      <td>Laval-des-Rapides</td>\n      <td>45.5501</td>\n      <td>-73.6992</td>\n    </tr>\n    <tr>\n      <th>66</th>\n      <td>H8N</td>\n      <td>LaSalle</td>\n      <td>45.4380</td>\n      <td>-73.6215</td>\n    </tr>\n    <tr>\n      <th>67</th>\n      <td>H1P</td>\n      <td>Saint-L\u00e9onard</td>\n      <td>45.5966</td>\n      <td>-73.5928</td>\n    </tr>\n    <tr>\n      <th>68</th>\n      <td>H2P</td>\n      <td>Villeray</td>\n      <td>45.5435</td>\n      <td>-73.6339</td>\n    </tr>\n    <tr>\n      <th>69</th>\n      <td>H3P</td>\n      <td>Mount Royal</td>\n      <td>45.5217</td>\n      <td>-73.6393</td>\n    </tr>\n    <tr>\n      <th>70</th>\n      <td>H4P</td>\n      <td>Mount Royal</td>\n      <td>45.4964</td>\n      <td>-73.6647</td>\n    </tr>\n    <tr>\n      <th>71</th>\n      <td>H7P</td>\n      <td>Fabreville</td>\n      <td>45.5780</td>\n      <td>-73.8004</td>\n    </tr>\n    <tr>\n      <th>72</th>\n      <td>H8P</td>\n      <td>LaSalle</td>\n      <td>45.4011</td>\n      <td>-73.6190</td>\n    </tr>\n    <tr>\n      <th>73</th>\n      <td>H9P</td>\n      <td>Dorval</td>\n      <td>45.4679</td>\n      <td>-73.7748</td>\n    </tr>\n    <tr>\n      <th>74</th>\n      <td>H1R</td>\n      <td>Saint-L\u00e9onard</td>\n      <td>45.5864</td>\n      <td>-73.6082</td>\n    </tr>\n    <tr>\n      <th>75</th>\n      <td>H2R</td>\n      <td>Villeray</td>\n      <td>45.5401</td>\n      <td>-73.6225</td>\n    </tr>\n    <tr>\n      <th>76</th>\n      <td>H3R</td>\n      <td>Mount Royal</td>\n      <td>45.5101</td>\n      <td>-73.6478</td>\n    </tr>\n    <tr>\n      <th>77</th>\n      <td>H4R</td>\n      <td>Saint-Laurent</td>\n      <td>45.5049</td>\n      <td>-73.7142</td>\n    </tr>\n    <tr>\n      <th>78</th>\n      <td>H7R</td>\n      <td>Laval-sur-le-Lac</td>\n      <td>45.5526</td>\n      <td>-73.8507</td>\n    </tr>\n    <tr>\n      <th>79</th>\n      <td>H8R</td>\n      <td>Ville Saint-Pierre</td>\n      <td>45.3994</td>\n      <td>-73.6506</td>\n    </tr>\n    <tr>\n      <th>80</th>\n      <td>H9R</td>\n      <td>Pointe-Claire</td>\n      <td>45.4487</td>\n      <td>-73.8167</td>\n    </tr>\n    <tr>\n      <th>81</th>\n      <td>H1S</td>\n      <td>Saint-L\u00e9onard</td>\n      <td>45.5808</td>\n      <td>-73.5825</td>\n    </tr>\n    <tr>\n      <th>82</th>\n      <td>H2S</td>\n      <td>Petite-Patrie</td>\n      <td>45.5354</td>\n      <td>-73.6061</td>\n    </tr>\n    <tr>\n      <th>83</th>\n      <td>H3S</td>\n      <td>C\u00f4te-des-Neiges</td>\n      <td>45.5063</td>\n      <td>-73.6297</td>\n    </tr>\n    <tr>\n      <th>84</th>\n      <td>H4S</td>\n      <td>Saint-Laurent</td>\n      <td>45.4858</td>\n      <td>-73.7433</td>\n    </tr>\n    <tr>\n      <th>85</th>\n      <td>H7S</td>\n      <td>Chomedey</td>\n      <td>45.5793</td>\n      <td>-73.7367</td>\n    </tr>\n    <tr>\n      <th>86</th>\n      <td>H8S</td>\n      <td>Lachine</td>\n      <td>45.4402</td>\n      <td>-73.6747</td>\n    </tr>\n    <tr>\n      <th>87</th>\n      <td>H9S</td>\n      <td>Dorval</td>\n      <td>45.4414</td>\n      <td>-73.7749</td>\n    </tr>\n    <tr>\n      <th>88</th>\n      <td>H1T</td>\n      <td>Rosemont</td>\n      <td>45.5730</td>\n      <td>-73.5701</td>\n    </tr>\n    <tr>\n      <th>89</th>\n      <td>H2T</td>\n      <td>Plateau Mont-Royal</td>\n      <td>45.5247</td>\n      <td>-73.5953</td>\n    </tr>\n    <tr>\n      <th>90</th>\n      <td>H3T</td>\n      <td>C\u00f4te-des-Neiges</td>\n      <td>45.5018</td>\n      <td>-73.6191</td>\n    </tr>\n    <tr>\n      <th>91</th>\n      <td>H4T</td>\n      <td>Saint-Laurent</td>\n      <td>45.4752</td>\n      <td>-73.6961</td>\n    </tr>\n    <tr>\n      <th>92</th>\n      <td>H7T</td>\n      <td>Chomedey</td>\n      <td>45.5573</td>\n      <td>-73.7725</td>\n    </tr>\n    <tr>\n      <th>93</th>\n      <td>H8T</td>\n      <td>Lachine</td>\n      <td>45.4419</td>\n      <td>-73.7057</td>\n    </tr>\n    <tr>\n      <th>94</th>\n      <td>H1V</td>\n      <td>Maisonneuve</td>\n      <td>45.5585</td>\n      <td>-73.5386</td>\n    </tr>\n    <tr>\n      <th>95</th>\n      <td>H2V</td>\n      <td>Outremont</td>\n      <td>45.5168</td>\n      <td>-73.6072</td>\n    </tr>\n    <tr>\n      <th>96</th>\n      <td>H3V</td>\n      <td>C\u00f4te-des-Neiges</td>\n      <td>45.4990</td>\n      <td>-73.6089</td>\n    </tr>\n    <tr>\n      <th>97</th>\n      <td>H4V</td>\n      <td>C\u00f4te Saint-Luc</td>\n      <td>45.4671</td>\n      <td>-73.6487</td>\n    </tr>\n    <tr>\n      <th>98</th>\n      <td>H7V</td>\n      <td>Chomedey</td>\n      <td>45.5478</td>\n      <td>-73.7368</td>\n    </tr>\n    <tr>\n      <th>99</th>\n      <td>H1W</td>\n      <td>Hochelaga</td>\n      <td>45.5442</td>\n      <td>-73.5468</td>\n    </tr>\n    <tr>\n      <th>100</th>\n      <td>H2W</td>\n      <td>Plateau Mont-Royal</td>\n      <td>45.5176</td>\n      <td>-73.5804</td>\n    </tr>\n    <tr>\n      <th>101</th>\n      <td>H3W</td>\n      <td>C\u00f4te Saint-Luc</td>\n      <td>45.4897</td>\n      <td>-73.6312</td>\n    </tr>\n    <tr>\n      <th>102</th>\n      <td>H5W</td>\n      <td>Chomedey</td>\n      <td>NaN</td>\n      <td>NaN</td>\n    </tr>\n    <tr>\n      <th>103</th>\n      <td>H8W</td>\n      <td>Beaconsfield</td>\n      <td>NaN</td>\n      <td>NaN</td>\n    </tr>\n    <tr>\n      <th>104</th>\n      <td>H0X</td>\n      <td>Rosemont</td>\n      <td>NaN</td>\n      <td>NaN</td>\n    </tr>\n    <tr>\n      <th>105</th>\n      <td>H1X</td>\n      <td>Plateau Mont-Royal</td>\n      <td>45.5583</td>\n      <td>-73.5701</td>\n    </tr>\n    <tr>\n      <th>106</th>\n      <td>H2X</td>\n      <td>Hampstead</td>\n      <td>45.5115</td>\n      <td>-73.5683</td>\n    </tr>\n    <tr>\n      <th>107</th>\n      <td>H3X</td>\n      <td>C\u00f4te Saint-Luc</td>\n      <td>45.4819</td>\n      <td>-73.6421</td>\n    </tr>\n    <tr>\n      <th>108</th>\n      <td>H4X</td>\n      <td>Montreal West</td>\n      <td>45.4529</td>\n      <td>-73.6492</td>\n    </tr>\n    <tr>\n      <th>109</th>\n      <td>H7X</td>\n      <td>Sainte-Doroth\u00e9e</td>\n      <td>45.5334</td>\n      <td>-73.8159</td>\n    </tr>\n    <tr>\n      <th>110</th>\n      <td>H9X</td>\n      <td>Sainte-Anne-De-Bellevue</td>\n      <td>45.4062</td>\n      <td>-73.9456</td>\n    </tr>\n    <tr>\n      <th>111</th>\n      <td>H1Y</td>\n      <td>Rosemont</td>\n      <td>45.5486</td>\n      <td>-73.5788</td>\n    </tr>\n    <tr>\n      <th>112</th>\n      <td>H2Y</td>\n      <td>Old Montreal</td>\n      <td>45.5057</td>\n      <td>-73.5550</td>\n    </tr>\n    <tr>\n      <th>113</th>\n      <td>H3Y</td>\n      <td>Westmount</td>\n      <td>45.4876</td>\n      <td>-73.6045</td>\n    </tr>\n    <tr>\n      <th>114</th>\n      <td>H4Y</td>\n      <td>Dorval</td>\n      <td>45.8654</td>\n      <td>-72.7614</td>\n    </tr>\n    <tr>\n      <th>115</th>\n      <td>H7Y</td>\n      <td>\u00celes-Laval</td>\n      <td>45.5284</td>\n      <td>-73.8509</td>\n    </tr>\n    <tr>\n      <th>116</th>\n      <td>H8Y</td>\n      <td>Pierrefonds-Roxboro</td>\n      <td>45.5084</td>\n      <td>-73.8075</td>\n    </tr>\n    <tr>\n      <th>117</th>\n      <td>H1Z</td>\n      <td>Saint-Michel</td>\n      <td>45.5694</td>\n      <td>-73.6221</td>\n    </tr>\n    <tr>\n      <th>118</th>\n      <td>H2Z</td>\n      <td>Downtown Montreal</td>\n      <td>45.5052</td>\n      <td>-73.5622</td>\n    </tr>\n    <tr>\n      <th>119</th>\n      <td>H3Z</td>\n      <td>Westmount</td>\n      <td>45.4825</td>\n      <td>-73.5933</td>\n    </tr>\n    <tr>\n      <th>120</th>\n      <td>H4Z</td>\n      <td>Tour de la Bourse</td>\n      <td>45.5061</td>\n      <td>-73.5573</td>\n    </tr>\n    <tr>\n      <th>121</th>\n      <td>H8Z</td>\n      <td>Pierrefonds</td>\n      <td>45.5069</td>\n      <td>-73.8407</td>\n    </tr>\n  </tbody>\n</table>\n</div>",
                        "text/plain": "    Postcode             Neighborhood  Latitude  Longitude\n0        H1A      Pointe-aux-Trembles   45.6753   -73.5016\n1        H2A             Saint-Michel   45.5618   -73.5990\n2        H3A        Downtown Montreal   45.5040   -73.5747\n3        H4A      Notre-Dame-de-Gr\u00e2ce   45.4717   -73.6149\n4        H5A        Place Bonaventure   45.4992   -73.5646\n5        H7A             Duvernay-Est   45.6739   -73.5924\n6        H9A      Dollard-des-Ormeaux   45.4948   -73.8317\n7        H1B            Montreal East   45.6320   -73.5075\n8        H2B                 Ahuntsic   45.5741   -73.6507\n9        H3B        Downtown Montreal   45.5005   -73.5684\n10       H4B      Notre-Dame-de-Gr\u00e2ce   45.4604   -73.6303\n11       H5B         Place Desjardins   45.5066   -73.5623\n12       H7B           Saint-Fran\u00e7ois   45.6757   -73.6388\n13       H9B      Dollard-des-Ormeaux   45.4897   -73.7958\n14       H1C     Rivi\u00e8re-des-Prairies   45.6656   -73.5367\n15       H2C                 Ahuntsic   45.5606   -73.6584\n16       H3C              Griffintown   45.4980   -73.5472\n17       H4C              Saint-Henri   45.4737   -73.5882\n18       H7C    Saint-Vincent-de-Paul   45.6168   -73.6492\n19       H9C             L'\u00cele-Bizard   45.5055   -73.8789\n20       H1E     Rivi\u00e8re-des-Prairies   45.6342   -73.5842\n21       H2E                 Villeray   45.5514   -73.6116\n22       H3E         L'\u00cele-Des-Soeurs   45.4594   -73.5501\n23       H4E              Ville \u00c9mard   45.4546   -73.5985\n24       H7E                 Duvernay   45.6225   -73.6949\n25       H9E             L'\u00cele-Bizard   45.4865   -73.9092\n26       H1G            Montr\u00e9al-Nord   45.6109   -73.6211\n27       H2G            Petite-Patrie   45.5438   -73.5927\n28       H3G        Downtown Montreal   45.4987   -73.5793\n29       H4G                   Verdun   45.4643   -73.5698\n30       H7G                Pont-Viau   45.5771   -73.6873\n31       H9G      Dollard-des-Ormeaux   45.4756   -73.8367\n32       H1H            Montr\u00e9al-Nord   45.5899   -73.6389\n33       H2H       Plateau Mont-Royal   45.5374   -73.5735\n34       H3H        Downtown Montreal   45.5009   -73.5877\n35       H4H                   Verdun   45.4459   -73.5815\n36       H7H                  Auteuil   45.6409   -73.7542\n37       H9H              Pierrefonds   45.4683   -73.8565\n38       H1J                    Anjou   45.6097   -73.5794\n39       H2J       Plateau Mont-Royal   45.5302   -73.5831\n40       H3J         Petite-Bourgogne   45.4861   -73.5732\n41       H4J             Cartierville   45.5313   -73.7091\n42       H7J                  Auteuil   45.6625   -73.7002\n43       H9J                 Kirkland   45.4501   -73.8659\n44       H1K                    Anjou   45.6097   -73.5472\n45       H2K               Centre-Sud   45.5307   -73.5547\n46       H3K     Pointe-Saint-Charles   45.4805   -73.5554\n47       H4K             Cartierville   45.5171   -73.7363\n48       H7K                  Auteuil   45.6213   -73.7398\n49       H9K               Senneville   45.4577   -73.9162\n50       H1L                  Mercier   45.6043   -73.5178\n51       H2L               Centre-Sud   45.5186   -73.5545\n52       H3L                 Ahuntsic   45.5467   -73.6718\n53       H4L            Saint-Laurent   45.5170   -73.6831\n54       H7L              Sainte-Rose   45.6168   -73.7825\n55       H0M                Akwesasne   45.6986   -73.5025\n56       H1M                  Mercier   45.5883   -73.5572\n57       H2M                 Ahuntsic   45.5528   -73.6411\n58       H3M             Cartierville   45.5383   -73.6932\n59       H4M            Saint-Laurent   45.4979   -73.6886\n60       H7M                   Vimont   45.5984   -73.7159\n61       H1N                  Mercier   45.5779   -73.5304\n62       H2N                 Ahuntsic   45.5394   -73.6513\n63       H3N           Parc-Extension   45.5302   -73.6327\n64       H4N            Saint-Laurent   45.5263   -73.6649\n65       H7N        Laval-des-Rapides   45.5501   -73.6992\n66       H8N                  LaSalle   45.4380   -73.6215\n67       H1P            Saint-L\u00e9onard   45.5966   -73.5928\n68       H2P                 Villeray   45.5435   -73.6339\n69       H3P              Mount Royal   45.5217   -73.6393\n70       H4P              Mount Royal   45.4964   -73.6647\n71       H7P               Fabreville   45.5780   -73.8004\n72       H8P                  LaSalle   45.4011   -73.6190\n73       H9P                   Dorval   45.4679   -73.7748\n74       H1R            Saint-L\u00e9onard   45.5864   -73.6082\n75       H2R                 Villeray   45.5401   -73.6225\n76       H3R              Mount Royal   45.5101   -73.6478\n77       H4R            Saint-Laurent   45.5049   -73.7142\n78       H7R         Laval-sur-le-Lac   45.5526   -73.8507\n79       H8R       Ville Saint-Pierre   45.3994   -73.6506\n80       H9R            Pointe-Claire   45.4487   -73.8167\n81       H1S            Saint-L\u00e9onard   45.5808   -73.5825\n82       H2S            Petite-Patrie   45.5354   -73.6061\n83       H3S          C\u00f4te-des-Neiges   45.5063   -73.6297\n84       H4S            Saint-Laurent   45.4858   -73.7433\n85       H7S                 Chomedey   45.5793   -73.7367\n86       H8S                  Lachine   45.4402   -73.6747\n87       H9S                   Dorval   45.4414   -73.7749\n88       H1T                 Rosemont   45.5730   -73.5701\n89       H2T       Plateau Mont-Royal   45.5247   -73.5953\n90       H3T          C\u00f4te-des-Neiges   45.5018   -73.6191\n91       H4T            Saint-Laurent   45.4752   -73.6961\n92       H7T                 Chomedey   45.5573   -73.7725\n93       H8T                  Lachine   45.4419   -73.7057\n94       H1V              Maisonneuve   45.5585   -73.5386\n95       H2V                Outremont   45.5168   -73.6072\n96       H3V          C\u00f4te-des-Neiges   45.4990   -73.6089\n97       H4V           C\u00f4te Saint-Luc   45.4671   -73.6487\n98       H7V                 Chomedey   45.5478   -73.7368\n99       H1W                Hochelaga   45.5442   -73.5468\n100      H2W       Plateau Mont-Royal   45.5176   -73.5804\n101      H3W           C\u00f4te Saint-Luc   45.4897   -73.6312\n102      H5W                 Chomedey       NaN        NaN\n103      H8W             Beaconsfield       NaN        NaN\n104      H0X                 Rosemont       NaN        NaN\n105      H1X       Plateau Mont-Royal   45.5583   -73.5701\n106      H2X                Hampstead   45.5115   -73.5683\n107      H3X           C\u00f4te Saint-Luc   45.4819   -73.6421\n108      H4X            Montreal West   45.4529   -73.6492\n109      H7X          Sainte-Doroth\u00e9e   45.5334   -73.8159\n110      H9X  Sainte-Anne-De-Bellevue   45.4062   -73.9456\n111      H1Y                 Rosemont   45.5486   -73.5788\n112      H2Y             Old Montreal   45.5057   -73.5550\n113      H3Y                Westmount   45.4876   -73.6045\n114      H4Y                   Dorval   45.8654   -72.7614\n115      H7Y               \u00celes-Laval   45.5284   -73.8509\n116      H8Y      Pierrefonds-Roxboro   45.5084   -73.8075\n117      H1Z             Saint-Michel   45.5694   -73.6221\n118      H2Z        Downtown Montreal   45.5052   -73.5622\n119      H3Z                Westmount   45.4825   -73.5933\n120      H4Z        Tour de la Bourse   45.5061   -73.5573\n121      H8Z              Pierrefonds   45.5069   -73.8407"
                    },
                    "execution_count": 26,
                    "metadata": {},
                    "output_type": "execute_result"
                }
            ],
            "source": "df_mtl_neigh_LongLat = Lat_Long_table['Neighborhood'].unique()"
        },
        {
            "cell_type": "markdown",
            "metadata": {},
            "source": "#### Use geopy package to get the longtitude and latitude value for the city of Montreal."
        },
        {
            "cell_type": "code",
            "execution_count": 42,
            "metadata": {},
            "outputs": [
                {
                    "name": "stdout",
                    "output_type": "stream",
                    "text": "The geograpical coordinate of Montreal are 45.4972159, -73.6103642.\n"
                },
                {
                    "data": {
                        "text/plain": "Location(Montr\u00e9al, Agglom\u00e9ration de Montr\u00e9al, Montr\u00e9al (06), Qu\u00e9bec, Canada, (45.4972159, -73.6103642, 0.0))"
                    },
                    "execution_count": 42,
                    "metadata": {},
                    "output_type": "execute_result"
                }
            ],
            "source": "address = 'Montreal, CA'\n\ngeolocator = Nominatim(user_agent=\"mtl_explorer\")\nlocation = geolocator.geocode(address)\nlatitude = location.latitude\nlongitude = location.longitude\nprint('The geograpical coordinate of Montreal are {}, {}.'.format(latitude, longitude))"
        },
        {
            "cell_type": "markdown",
            "metadata": {},
            "source": "#### Create a map of Montreal with neighborhoods superimposed on top.\nA map of Montreal with neighborhoods superimposed on top. We use latitude and longitude values to get the visual"
        },
        {
            "cell_type": "code",
            "execution_count": 13,
            "metadata": {},
            "outputs": [
                {
                    "ename": "NameError",
                    "evalue": "name 'neighborhoods' is not defined",
                    "output_type": "error",
                    "traceback": [
                        "\u001b[0;31m---------------------------------------------------------------------------\u001b[0m",
                        "\u001b[0;31mNameError\u001b[0m                                 Traceback (most recent call last)",
                        "\u001b[0;32m<ipython-input-13-535a3ab96be0>\u001b[0m in \u001b[0;36m<module>\u001b[0;34m\u001b[0m\n\u001b[1;32m      3\u001b[0m \u001b[0;34m\u001b[0m\u001b[0m\n\u001b[1;32m      4\u001b[0m \u001b[0;31m# add markers to map\u001b[0m\u001b[0;34m\u001b[0m\u001b[0;34m\u001b[0m\u001b[0;34m\u001b[0m\u001b[0m\n\u001b[0;32m----> 5\u001b[0;31m \u001b[0;32mfor\u001b[0m \u001b[0mlat\u001b[0m\u001b[0;34m,\u001b[0m \u001b[0mlng\u001b[0m\u001b[0;34m,\u001b[0m \u001b[0mborough\u001b[0m\u001b[0;34m,\u001b[0m \u001b[0mneighborhood\u001b[0m \u001b[0;32min\u001b[0m \u001b[0mzip\u001b[0m\u001b[0;34m(\u001b[0m\u001b[0mneighborhoods\u001b[0m\u001b[0;34m[\u001b[0m\u001b[0;34m'Latitude'\u001b[0m\u001b[0;34m]\u001b[0m\u001b[0;34m,\u001b[0m \u001b[0mneighborhoods\u001b[0m\u001b[0;34m[\u001b[0m\u001b[0;34m'Longitude'\u001b[0m\u001b[0;34m]\u001b[0m\u001b[0;34m,\u001b[0m \u001b[0mneighborhoods\u001b[0m\u001b[0;34m[\u001b[0m\u001b[0;34m'Borough'\u001b[0m\u001b[0;34m]\u001b[0m\u001b[0;34m,\u001b[0m \u001b[0mneighborhoods\u001b[0m\u001b[0;34m[\u001b[0m\u001b[0;34m'Neighborhood'\u001b[0m\u001b[0;34m]\u001b[0m\u001b[0;34m)\u001b[0m\u001b[0;34m:\u001b[0m\u001b[0;34m\u001b[0m\u001b[0;34m\u001b[0m\u001b[0m\n\u001b[0m\u001b[1;32m      6\u001b[0m     \u001b[0mlabel\u001b[0m \u001b[0;34m=\u001b[0m \u001b[0;34m'{}, {}'\u001b[0m\u001b[0;34m.\u001b[0m\u001b[0mformat\u001b[0m\u001b[0;34m(\u001b[0m\u001b[0mneighborhood\u001b[0m\u001b[0;34m,\u001b[0m \u001b[0mborough\u001b[0m\u001b[0;34m)\u001b[0m\u001b[0;34m\u001b[0m\u001b[0;34m\u001b[0m\u001b[0m\n\u001b[1;32m      7\u001b[0m     \u001b[0mlabel\u001b[0m \u001b[0;34m=\u001b[0m \u001b[0mfolium\u001b[0m\u001b[0;34m.\u001b[0m\u001b[0mPopup\u001b[0m\u001b[0;34m(\u001b[0m\u001b[0mlabel\u001b[0m\u001b[0;34m,\u001b[0m \u001b[0mparse_html\u001b[0m\u001b[0;34m=\u001b[0m\u001b[0;32mTrue\u001b[0m\u001b[0;34m)\u001b[0m\u001b[0;34m\u001b[0m\u001b[0;34m\u001b[0m\u001b[0m\n",
                        "\u001b[0;31mNameError\u001b[0m: name 'neighborhoods' is not defined"
                    ]
                }
            ],
            "source": "# create map of Montreal using latitude and longitude values\nmap_mtl = folium.Map(location=[latitude, longitude], zoom_start=10)\n\n# add markers to map\nfor lat, lng, borough, neighborhood in zip(neighborhoods['Latitude'], neighborhoods['Longitude'], neighborhoods['Borough'], neighborhoods['Neighborhood']):\n    label = '{}, {}'.format(neighborhood, borough)\n    label = folium.Popup(label, parse_html=True)\n    folium.CircleMarker(\n        [lat, lng],\n        radius=5,\n        popup=label,\n        color='blue',\n        fill=True,\n        fill_color='#3186cc',\n        fill_opacity=0.7,\n        parse_html=False).add_to(map_mtl)  \n    \nmap_mtl"
        },
        {
            "cell_type": "markdown",
            "metadata": {},
            "source": "#### Define Foursquare Credentials and Version\nNow, Foursquare API is used to explore and segment the neighbors "
        },
        {
            "cell_type": "code",
            "execution_count": 14,
            "metadata": {},
            "outputs": [
                {
                    "name": "stdout",
                    "output_type": "stream",
                    "text": "Your credentails:\nCLIENT_ID: KILPJAZ5ZQ1E4PKG35SUOFPSG5G2YEIDCI3DMD1VAACW55NK\nCLIENT_SECRET:YPGN5GXXVHJPOQIP05YQTXXS2PHOJELTO0ZLSKPDOI3Z4XD1\n"
                }
            ],
            "source": "CLIENT_ID = 'KILPJAZ5ZQ1E4PKG35SUOFPSG5G2YEIDCI3DMD1VAACW55NK' # your Foursquare ID\nCLIENT_SECRET = 'YPGN5GXXVHJPOQIP05YQTXXS2PHOJELTO0ZLSKPDOI3Z4XD1' # your Foursquare Secret\nVERSION = '20180605' # Foursquare API version\nLIMIT = 100 # A default Foursquare API limit value\n\nprint('Your credentails:')\nprint('CLIENT_ID: ' + CLIENT_ID)\nprint('CLIENT_SECRET:' + CLIENT_SECRET)"
        },
        {
            "cell_type": "markdown",
            "metadata": {},
            "source": "#### Explore third neighborhood in our dataframe: Downtown Montreal\t"
        },
        {
            "cell_type": "code",
            "execution_count": null,
            "metadata": {},
            "outputs": [],
            "source": "neighborhood_latitude = df_mtl_LongLat.loc[2, 'Latitude'] # neighborhood latitude value\nneighborhood_longitude = df_mtl_LongLat.loc[2, 'Longitude'] # neighborhood longitude value\n\nneighborhood_name = df_mtl_LongLat.loc[2, 'Neighborhood'] # neighborhood name\n\nprint('Latitude and longitude values of {} are {}, {}.'.format(neighborhood_name, \n                                                               neighborhood_latitude, \n                                                               neighborhood_longitude))"
        },
        {
            "cell_type": "markdown",
            "metadata": {},
            "source": "First, a request URL is created, then the top 100 venues with a radius of 500 meters are set parameter for the exploration"
        },
        {
            "cell_type": "code",
            "execution_count": 16,
            "metadata": {},
            "outputs": [
                {
                    "ename": "NameError",
                    "evalue": "name 'neighborhood_latitude' is not defined",
                    "output_type": "error",
                    "traceback": [
                        "\u001b[0;31m---------------------------------------------------------------------------\u001b[0m",
                        "\u001b[0;31mNameError\u001b[0m                                 Traceback (most recent call last)",
                        "\u001b[0;32m<ipython-input-16-e97e700a50d9>\u001b[0m in \u001b[0;36m<module>\u001b[0;34m\u001b[0m\n\u001b[1;32m      6\u001b[0m     \u001b[0mCLIENT_SECRET\u001b[0m\u001b[0;34m,\u001b[0m\u001b[0;34m\u001b[0m\u001b[0;34m\u001b[0m\u001b[0m\n\u001b[1;32m      7\u001b[0m     \u001b[0mVERSION\u001b[0m\u001b[0;34m,\u001b[0m\u001b[0;34m\u001b[0m\u001b[0;34m\u001b[0m\u001b[0m\n\u001b[0;32m----> 8\u001b[0;31m     \u001b[0mneighborhood_latitude\u001b[0m\u001b[0;34m,\u001b[0m\u001b[0;34m\u001b[0m\u001b[0;34m\u001b[0m\u001b[0m\n\u001b[0m\u001b[1;32m      9\u001b[0m     \u001b[0mneighborhood_longitude\u001b[0m\u001b[0;34m,\u001b[0m\u001b[0;34m\u001b[0m\u001b[0;34m\u001b[0m\u001b[0m\n\u001b[1;32m     10\u001b[0m     \u001b[0mradius\u001b[0m\u001b[0;34m,\u001b[0m\u001b[0;34m\u001b[0m\u001b[0;34m\u001b[0m\u001b[0m\n",
                        "\u001b[0;31mNameError\u001b[0m: name 'neighborhood_latitude' is not defined"
                    ]
                }
            ],
            "source": "LIMIT = 100 # limit of number of venues returned by Foursquare API\nradius = 500 # define radius\n\nurl = 'https://api.foursquare.com/v2/venues/explore?&client_id={}&client_secret={}&v={}&ll={},{}&radius={}&limit={}'.format(\n    CLIENT_ID, \n    CLIENT_SECRET, \n    VERSION, \n    neighborhood_latitude, \n    neighborhood_longitude, \n    radius, \n    LIMIT)\nurl # display URL"
        },
        {
            "cell_type": "markdown",
            "metadata": {},
            "source": "Send the GET request"
        },
        {
            "cell_type": "code",
            "execution_count": null,
            "metadata": {},
            "outputs": [],
            "source": "results = requests.get(url).json()"
        },
        {
            "cell_type": "markdown",
            "metadata": {},
            "source": "From the Foursquare lab in the previous module, we know that all the information is in the items key. Before we proceed, let's borrow the get_category_type function from the Foursquare lab"
        },
        {
            "cell_type": "code",
            "execution_count": 17,
            "metadata": {},
            "outputs": [],
            "source": "# function that extracts the category of the venue\ndef get_category_type(row):\n    try:\n        categories_list = row['categories']\n    except:\n        categories_list = row['venue.categories']\n        \n    if len(categories_list) == 0:\n        return None\n    else:\n        return categories_list[0]['name']"
        },
        {
            "cell_type": "markdown",
            "metadata": {},
            "source": "Now we are ready to clean the json and structure it into a _pandas_ dataframe."
        },
        {
            "cell_type": "code",
            "execution_count": 18,
            "metadata": {},
            "outputs": [
                {
                    "ename": "NameError",
                    "evalue": "name 'results' is not defined",
                    "output_type": "error",
                    "traceback": [
                        "\u001b[0;31m---------------------------------------------------------------------------\u001b[0m",
                        "\u001b[0;31mNameError\u001b[0m                                 Traceback (most recent call last)",
                        "\u001b[0;32m<ipython-input-18-561c05f0fdd1>\u001b[0m in \u001b[0;36m<module>\u001b[0;34m\u001b[0m\n\u001b[0;32m----> 1\u001b[0;31m \u001b[0mvenues\u001b[0m \u001b[0;34m=\u001b[0m \u001b[0mresults\u001b[0m\u001b[0;34m[\u001b[0m\u001b[0;34m'response'\u001b[0m\u001b[0;34m]\u001b[0m\u001b[0;34m[\u001b[0m\u001b[0;34m'groups'\u001b[0m\u001b[0;34m]\u001b[0m\u001b[0;34m[\u001b[0m\u001b[0;36m0\u001b[0m\u001b[0;34m]\u001b[0m\u001b[0;34m[\u001b[0m\u001b[0;34m'items'\u001b[0m\u001b[0;34m]\u001b[0m\u001b[0;34m\u001b[0m\u001b[0;34m\u001b[0m\u001b[0m\n\u001b[0m\u001b[1;32m      2\u001b[0m \u001b[0;34m\u001b[0m\u001b[0m\n\u001b[1;32m      3\u001b[0m \u001b[0mnearby_venues\u001b[0m \u001b[0;34m=\u001b[0m \u001b[0mjson_normalize\u001b[0m\u001b[0;34m(\u001b[0m\u001b[0mvenues\u001b[0m\u001b[0;34m)\u001b[0m \u001b[0;31m# flatten JSON\u001b[0m\u001b[0;34m\u001b[0m\u001b[0;34m\u001b[0m\u001b[0m\n\u001b[1;32m      4\u001b[0m \u001b[0;34m\u001b[0m\u001b[0m\n\u001b[1;32m      5\u001b[0m \u001b[0;31m# filter columns\u001b[0m\u001b[0;34m\u001b[0m\u001b[0;34m\u001b[0m\u001b[0;34m\u001b[0m\u001b[0m\n",
                        "\u001b[0;31mNameError\u001b[0m: name 'results' is not defined"
                    ]
                }
            ],
            "source": "venues = results['response']['groups'][0]['items']\n    \nnearby_venues = json_normalize(venues) # flatten JSON\n\n# filter columns\nfiltered_columns = ['venue.name', 'venue.categories', 'venue.location.lat', 'venue.location.lng']\nnearby_venues =nearby_venues.loc[:, filtered_columns]\n\n# filter the category for each row\nnearby_venues['venue.categories'] = nearby_venues.apply(get_category_type, axis=1)\n\n# clean columns\nnearby_venues.columns = [col.split(\".\")[-1] for col in nearby_venues.columns]\n\nnearby_venues.head()"
        },
        {
            "cell_type": "markdown",
            "metadata": {},
            "source": "And how many venues were returned by Foursquare?"
        },
        {
            "cell_type": "code",
            "execution_count": null,
            "metadata": {},
            "outputs": [],
            "source": "print('{} venues were returned by Foursquare.'.format(nearby_venues.shape[0]))"
        },
        {
            "cell_type": "markdown",
            "metadata": {},
            "source": "### 4.2 Explore Neighborhoods in Montreal"
        },
        {
            "cell_type": "markdown",
            "metadata": {},
            "source": "Let's create a function to repeat the same process to all the neighborhoods in Manhattan"
        },
        {
            "cell_type": "code",
            "execution_count": null,
            "metadata": {},
            "outputs": [],
            "source": "def getNearbyVenues(names, latitudes, longitudes, radius=500):\n    \n    venues_list=[]\n    for name, lat, lng in zip(names, latitudes, longitudes):\n        print(name)\n            \n        # create the API request URL\n        url = 'https://api.foursquare.com/v2/venues/explore?&client_id={}&client_secret={}&v={}&ll={},{}&radius={}&limit={}'.format(\n            CLIENT_ID, \n            CLIENT_SECRET, \n            VERSION, \n            lat, \n            lng, \n            radius, \n            LIMIT)\n            \n        # make the GET request\n        results = requests.get(url).json()[\"response\"]['groups'][0]['items']\n        \n        # return only relevant information for each nearby venue\n        venues_list.append([(\n            name, \n            lat, \n            lng, \n            v['venue']['name'], \n            v['venue']['location']['lat'], \n            v['venue']['location']['lng'],  \n            v['venue']['categories'][0]['name']) for v in results])\n\n    nearby_venues = pd.DataFrame([item for venue_list in venues_list for item in venue_list])\n    nearby_venues.columns = ['Neighborhood', \n                  'Neighborhood Latitude', \n                  'Neighborhood Longitude', \n                  'Venue', \n                  'Venue Latitude', \n                  'Venue Longitude', \n                  'Venue Category']\n    \n    return(nearby_venues)"
        },
        {
            "cell_type": "markdown",
            "metadata": {},
            "source": "Now, the above function is executed on each neighborhood and create a new dataframe called montreal_venues"
        },
        {
            "cell_type": "code",
            "execution_count": 21,
            "metadata": {},
            "outputs": [
                {
                    "ename": "AttributeError",
                    "evalue": "'NoneType' object has no attribute 'latitude'",
                    "output_type": "error",
                    "traceback": [
                        "\u001b[0;31m---------------------------------------------------------------------------\u001b[0m",
                        "\u001b[0;31mAttributeError\u001b[0m                            Traceback (most recent call last)",
                        "\u001b[0;32m<ipython-input-21-3d02869443fc>\u001b[0m in \u001b[0;36m<module>\u001b[0;34m\u001b[0m\n\u001b[1;32m      3\u001b[0m \u001b[0mgeolocator\u001b[0m \u001b[0;34m=\u001b[0m \u001b[0mNominatim\u001b[0m\u001b[0;34m(\u001b[0m\u001b[0muser_agent\u001b[0m\u001b[0;34m=\u001b[0m\u001b[0;34m\"mtl_explorer\"\u001b[0m\u001b[0;34m)\u001b[0m\u001b[0;34m\u001b[0m\u001b[0;34m\u001b[0m\u001b[0m\n\u001b[1;32m      4\u001b[0m \u001b[0mlocation\u001b[0m \u001b[0;34m=\u001b[0m \u001b[0mgeolocator\u001b[0m\u001b[0;34m.\u001b[0m\u001b[0mgeocode\u001b[0m\u001b[0;34m(\u001b[0m\u001b[0maddress\u001b[0m\u001b[0;34m)\u001b[0m\u001b[0;34m\u001b[0m\u001b[0;34m\u001b[0m\u001b[0m\n\u001b[0;32m----> 5\u001b[0;31m \u001b[0mlatitude\u001b[0m \u001b[0;34m=\u001b[0m \u001b[0mlocation\u001b[0m\u001b[0;34m.\u001b[0m\u001b[0mlatitude\u001b[0m\u001b[0;34m\u001b[0m\u001b[0;34m\u001b[0m\u001b[0m\n\u001b[0m\u001b[1;32m      6\u001b[0m \u001b[0mlongitude\u001b[0m \u001b[0;34m=\u001b[0m \u001b[0mlocation\u001b[0m\u001b[0;34m.\u001b[0m\u001b[0mlongitude\u001b[0m\u001b[0;34m\u001b[0m\u001b[0;34m\u001b[0m\u001b[0m\n\u001b[1;32m      7\u001b[0m \u001b[0mprint\u001b[0m\u001b[0;34m(\u001b[0m\u001b[0;34m'The geograpical coordinate of Montreal are {}, {}.'\u001b[0m\u001b[0;34m.\u001b[0m\u001b[0mformat\u001b[0m\u001b[0;34m(\u001b[0m\u001b[0mlatitude\u001b[0m\u001b[0;34m,\u001b[0m \u001b[0mlongitude\u001b[0m\u001b[0;34m)\u001b[0m\u001b[0;34m)\u001b[0m\u001b[0;34m\u001b[0m\u001b[0;34m\u001b[0m\u001b[0m\n",
                        "\u001b[0;31mAttributeError\u001b[0m: 'NoneType' object has no attribute 'latitude'"
                    ]
                }
            ],
            "source": "address = 'H7J'\n\n#geolocator = Nominatim(user_agent=\"mtl_explorer\")\nlocation = geolocator.geocode(address)\nlatitude = location.latitude\nlongitude = location.longitude\nprint('The geograpical coordinate of Montreal are {}, {}.'.format(latitude, longitude))"
        },
        {
            "cell_type": "code",
            "execution_count": 10,
            "metadata": {},
            "outputs": [
                {
                    "name": "stdout",
                    "output_type": "stream",
                    "text": "Pointe-aux-Trembles, Rivi\u00e8re-des-Prairies\u2013Pointe-aux-Trembles, Montr\u00e9al, Agglom\u00e9ration de Montr\u00e9al, Montr\u00e9al (06), Qu\u00e9bec, Canada\n"
                }
            ],
            "source": "location = geolocator.geocode(\"Pointe-aux-Trembles Montr\u00e9al\")\n\nprint((location))"
        },
        {
            "cell_type": "code",
            "execution_count": null,
            "metadata": {},
            "outputs": [],
            "source": ""
        },
        {
            "cell_type": "code",
            "execution_count": null,
            "metadata": {},
            "outputs": [],
            "source": ""
        },
        {
            "cell_type": "code",
            "execution_count": null,
            "metadata": {},
            "outputs": [],
            "source": ""
        },
        {
            "cell_type": "code",
            "execution_count": null,
            "metadata": {},
            "outputs": [],
            "source": ""
        },
        {
            "cell_type": "code",
            "execution_count": null,
            "metadata": {},
            "outputs": [],
            "source": ""
        },
        {
            "cell_type": "code",
            "execution_count": null,
            "metadata": {},
            "outputs": [],
            "source": ""
        }
    ],
    "metadata": {
        "kernelspec": {
            "display_name": "Python 3.7",
            "language": "python",
            "name": "python3"
        },
        "language_info": {
            "codemirror_mode": {
                "name": "ipython",
                "version": 3
            },
            "file_extension": ".py",
            "mimetype": "text/x-python",
            "name": "python",
            "nbconvert_exporter": "python",
            "pygments_lexer": "ipython3",
            "version": "3.7.9"
        }
    },
    "nbformat": 4,
    "nbformat_minor": 1
}